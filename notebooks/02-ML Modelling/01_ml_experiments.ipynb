{
  "cells": [
    {
      "cell_type": "markdown",
      "metadata": {
        "id": "5XkUpeBLMqkp"
      },
      "source": [
        "In the previous notebook we've identified, analyzed and solved the inconsistences in our dataset. In some cases, for machine learning models, it is necessary to create new features to model the problem. This notebook aims to do the necessary feature engineering."
      ]
    },
    {
      "cell_type": "markdown",
      "metadata": {
        "id": "FXtIsvSUMqks"
      },
      "source": [
        "# Imports"
      ]
    },
    {
      "cell_type": "code",
      "execution_count": 1,
      "metadata": {
        "id": "0VbVQvIEMqkt"
      },
      "outputs": [],
      "source": [
        "import os\n",
        "import warnings\n",
        "import numpy as np\n",
        "import pandas as pd\n",
        "import matplotlib.pyplot as plt\n",
        "import seaborn as sns\n",
        "import mlflow\n",
        "import mlflow.sklearn\n",
        "\n",
        "from sklearn.model_selection import train_test_split\n",
        "from sklearn.neighbors import KNeighborsRegressor\n",
        "from sklearn.tree import DecisionTreeRegressor\n",
        "from sklearn.ensemble import RandomForestRegressor, GradientBoostingRegressor, AdaBoostRegressor, BaggingRegressor\n",
        "from sklearn.svm import SVR\n",
        "from sklearn import metrics\n",
        "from scipy.stats import zscore\n",
        "from sklearn.model_selection import KFold\n",
        "from sklearn.model_selection import cross_val_score\n",
        "from xgboost.sklearn import XGBRegressor\n",
        "\n",
        "from IPython.display import Image"
      ]
    },
    {
      "cell_type": "markdown",
      "metadata": {},
      "source": [
        "# Set-up"
      ]
    },
    {
      "cell_type": "code",
      "execution_count": 2,
      "metadata": {},
      "outputs": [],
      "source": [
        "os.chdir('../..')"
      ]
    },
    {
      "cell_type": "code",
      "execution_count": 3,
      "metadata": {
        "id": "tp7uDcZaMqku"
      },
      "outputs": [],
      "source": [
        "warnings.filterwarnings(\"ignore\")\n",
        "%matplotlib inline\n",
        "sns.set_style(\"white\")"
      ]
    },
    {
      "cell_type": "markdown",
      "metadata": {
        "id": "lB-UHTM7Mqku"
      },
      "source": [
        "# Get Data"
      ]
    },
    {
      "cell_type": "code",
      "execution_count": 7,
      "metadata": {
        "id": "eBiHe1RdMqku"
      },
      "outputs": [],
      "source": [
        "df = pd.read_parquet('./data/1-bronze/Concrete_Data_Cleaned.parquet')"
      ]
    },
    {
      "cell_type": "markdown",
      "metadata": {
        "id": "bpuKjxhkMqku"
      },
      "source": [
        "# Feature Engineering"
      ]
    },
    {
      "cell_type": "code",
      "execution_count": 8,
      "metadata": {
        "colab": {
          "base_uri": "https://localhost:8080/",
          "height": 206
        },
        "id": "pBgiBedHMqku",
        "outputId": "3142b565-b75b-4b9d-c54f-bb6a75ff946b"
      },
      "outputs": [
        {
          "data": {
            "text/html": [
              "<div>\n",
              "<style scoped>\n",
              "    .dataframe tbody tr th:only-of-type {\n",
              "        vertical-align: middle;\n",
              "    }\n",
              "\n",
              "    .dataframe tbody tr th {\n",
              "        vertical-align: top;\n",
              "    }\n",
              "\n",
              "    .dataframe thead th {\n",
              "        text-align: right;\n",
              "    }\n",
              "</style>\n",
              "<table border=\"1\" class=\"dataframe\">\n",
              "  <thead>\n",
              "    <tr style=\"text-align: right;\">\n",
              "      <th></th>\n",
              "      <th>cement</th>\n",
              "      <th>slag</th>\n",
              "      <th>ash</th>\n",
              "      <th>water</th>\n",
              "      <th>superplastic</th>\n",
              "      <th>coarseagg</th>\n",
              "      <th>fineagg</th>\n",
              "      <th>age</th>\n",
              "      <th>strength</th>\n",
              "    </tr>\n",
              "  </thead>\n",
              "  <tbody>\n",
              "    <tr>\n",
              "      <th>0</th>\n",
              "      <td>272.9</td>\n",
              "      <td>0.0</td>\n",
              "      <td>0.0</td>\n",
              "      <td>162.0</td>\n",
              "      <td>2.5</td>\n",
              "      <td>1040.0</td>\n",
              "      <td>676.0</td>\n",
              "      <td>28.0</td>\n",
              "      <td>79,99</td>\n",
              "    </tr>\n",
              "    <tr>\n",
              "      <th>1</th>\n",
              "      <td>272.9</td>\n",
              "      <td>0.0</td>\n",
              "      <td>0.0</td>\n",
              "      <td>162.0</td>\n",
              "      <td>2.5</td>\n",
              "      <td>1055.0</td>\n",
              "      <td>676.0</td>\n",
              "      <td>28.0</td>\n",
              "      <td>61,89</td>\n",
              "    </tr>\n",
              "    <tr>\n",
              "      <th>2</th>\n",
              "      <td>332.5</td>\n",
              "      <td>142.5</td>\n",
              "      <td>0.0</td>\n",
              "      <td>185.0</td>\n",
              "      <td>0.0</td>\n",
              "      <td>932.0</td>\n",
              "      <td>594.0</td>\n",
              "      <td>28.0</td>\n",
              "      <td>40,27</td>\n",
              "    </tr>\n",
              "    <tr>\n",
              "      <th>3</th>\n",
              "      <td>332.5</td>\n",
              "      <td>142.5</td>\n",
              "      <td>0.0</td>\n",
              "      <td>185.0</td>\n",
              "      <td>0.0</td>\n",
              "      <td>932.0</td>\n",
              "      <td>594.0</td>\n",
              "      <td>28.0</td>\n",
              "      <td>41,05</td>\n",
              "    </tr>\n",
              "    <tr>\n",
              "      <th>4</th>\n",
              "      <td>198.6</td>\n",
              "      <td>132.4</td>\n",
              "      <td>0.0</td>\n",
              "      <td>192.0</td>\n",
              "      <td>0.0</td>\n",
              "      <td>978.4</td>\n",
              "      <td>825.5</td>\n",
              "      <td>28.0</td>\n",
              "      <td>44,30</td>\n",
              "    </tr>\n",
              "  </tbody>\n",
              "</table>\n",
              "</div>"
            ],
            "text/plain": [
              "   cement   slag  ash  water  superplastic  coarseagg  fineagg   age strength\n",
              "0   272.9    0.0  0.0  162.0           2.5     1040.0    676.0  28.0   79,99 \n",
              "1   272.9    0.0  0.0  162.0           2.5     1055.0    676.0  28.0   61,89 \n",
              "2   332.5  142.5  0.0  185.0           0.0      932.0    594.0  28.0   40,27 \n",
              "3   332.5  142.5  0.0  185.0           0.0      932.0    594.0  28.0   41,05 \n",
              "4   198.6  132.4  0.0  192.0           0.0      978.4    825.5  28.0   44,30 "
            ]
          },
          "execution_count": 8,
          "metadata": {},
          "output_type": "execute_result"
        }
      ],
      "source": [
        "df.head()"
      ]
    },
    {
      "cell_type": "markdown",
      "metadata": {
        "id": "Cs2oRZMPMqkv"
      },
      "source": [
        "The strength is the target variable, let's divide the dataset in dependent and independent variables and scale the data avoid data leakage."
      ]
    },
    {
      "cell_type": "code",
      "execution_count": 6,
      "metadata": {
        "colab": {
          "base_uri": "https://localhost:8080/"
        },
        "id": "rAhGP1kHMqkv",
        "outputId": "7f805331-28d9-448b-ad57-be6391724440"
      },
      "outputs": [
        {
          "data": {
            "text/plain": [
              "Index(['cement', 'slag', 'ash', 'water', 'superplastic', 'coarseagg',\n",
              "       'fineagg', 'age', 'Concrete compressive strength(MPa, megapascals) '],\n",
              "      dtype='object')"
            ]
          },
          "execution_count": 6,
          "metadata": {},
          "output_type": "execute_result"
        }
      ],
      "source": [
        "df.columns"
      ]
    },
    {
      "cell_type": "code",
      "execution_count": null,
      "metadata": {
        "id": "7rkJekAZMqkv"
      },
      "outputs": [],
      "source": [
        "# spitting data into dependent and independent variables\n",
        "\n",
        "X = df[['cement', 'slag', 'ash', 'water', 'superplastic', 'coarseagg',\n",
        "       'fineagg', 'age']]\n",
        "y = df[['strength']]"
      ]
    },
    {
      "cell_type": "code",
      "execution_count": null,
      "metadata": {},
      "outputs": [],
      "source": [
        "X.to_parquet('../../data/2-silver/X.csv', index = False)\n",
        "y.to_parquet('../../data/2-silver/Y.csv', index = False)"
      ]
    },
    {
      "cell_type": "markdown",
      "metadata": {
        "id": "AbeUPFcUMqkw"
      },
      "source": [
        "In order to scale our data, let us use the z score."
      ]
    },
    {
      "cell_type": "code",
      "execution_count": null,
      "metadata": {
        "id": "WFW8u_C8Mqkw"
      },
      "outputs": [],
      "source": [
        "Xscaled = X.apply(zscore)\n",
        "X_scaled_df = pd.DataFrame(Xscaled, columns = df.columns)"
      ]
    },
    {
      "cell_type": "code",
      "execution_count": null,
      "metadata": {
        "id": "MmXTIBBdMqkw"
      },
      "outputs": [],
      "source": [
        "X_scaled_df = X_scaled_df.drop(columns = 'strength')"
      ]
    },
    {
      "cell_type": "code",
      "execution_count": null,
      "metadata": {
        "colab": {
          "base_uri": "https://localhost:8080/",
          "height": 424
        },
        "id": "Y0xZGBALMqkw",
        "outputId": "f6f38de1-59b9-439d-e499-dedcf46041ec"
      },
      "outputs": [],
      "source": [
        "X_scaled_df"
      ]
    },
    {
      "cell_type": "markdown",
      "metadata": {
        "id": "A3tqBl1fMqkw"
      },
      "source": [
        "# Building Different Models"
      ]
    },
    {
      "cell_type": "code",
      "execution_count": null,
      "metadata": {
        "id": "gObLM3QlMqkw"
      },
      "outputs": [],
      "source": [
        "# splitting in train and test data\n",
        "X_train, X_test, y_train, y_test = train_test_split(Xscaled, y, test_size = 0.3, random_state = 1)"
      ]
    },
    {
      "cell_type": "code",
      "execution_count": null,
      "metadata": {},
      "outputs": [],
      "source": [
        "X_train.to_csv('../../data/3-gold/X_train.csv', index = False)\n",
        "X_test.to_csv('../../data/3-gold/X_test.csv', index = False)\n",
        "\n",
        "y_train.to_csv('../../data/3-gold/y_train.csv', index = False)\n",
        "y_test.to_csv('../../data/3-gold/y_test.csv', index = False)"
      ]
    },
    {
      "cell_type": "markdown",
      "metadata": {
        "id": "FOi-9-2DNEUM"
      },
      "source": [
        "# MLFlow Experiment - Functions"
      ]
    },
    {
      "cell_type": "code",
      "execution_count": null,
      "metadata": {
        "id": "XQ2br8k9NHfu"
      },
      "outputs": [],
      "source": [
        "def train(model, X_train: pd.DataFrame, y_train: pd.DataFrame) -> None:\n",
        "  '''\n",
        "  Fits a scikit-learn model\n",
        "  '''\n",
        "  try:\n",
        "    model = model.fit(X_train, y_train)\n",
        "    train_accuracy = model.score(X_train, y_train)\n",
        "    mlflow.log_metric('train-accuracy', train_accuracy)\n",
        "    print(f'Train Accuracy: {train_accuracy: .3%}')\n",
        "  except Exception as e:\n",
        "    raise(e)\n",
        "\n",
        "  return None"
      ]
    },
    {
      "cell_type": "code",
      "execution_count": null,
      "metadata": {
        "id": "c2W5AhKUOCgy"
      },
      "outputs": [],
      "source": [
        "def evaluate(model, X_test: pd.DataFrame, y_test: pd.DataFrame) -> None:\n",
        "    # Model predictions\n",
        "    y_pred = model.predict(X_test)\n",
        "\n",
        "    # Model performance metrics\n",
        "    r2_score = metrics.r2_score(y_test, y_pred)\n",
        "    mse_score = metrics.mean_squared_error(y_test, y_pred)\n",
        "\n",
        "    # Log metrics\n",
        "    mlflow.log_metric('r2-score', r2_score)\n",
        "    mlflow.log_metric('mse', mse_score)\n",
        "\n",
        "    # Print and log metrics\n",
        "    print('R2 Score: {:.3f}'.format(r2_score))\n",
        "    print('-' * 30)\n",
        "    print('MSE: {:.3f}'.format(mse_score))\n",
        "\n",
        "    print('-' * 30)\n",
        "    print('Metrics and artifacts logged!')\n",
        "\n",
        "    return None\n"
      ]
    },
    {
      "cell_type": "markdown",
      "metadata": {
        "id": "EB4Es02tMqkx"
      },
      "source": [
        "# Random Forest"
      ]
    },
    {
      "cell_type": "code",
      "execution_count": null,
      "metadata": {
        "id": "CMAv3vTGOn6y"
      },
      "outputs": [],
      "source": [
        "random_forest = RandomForestRegressor()"
      ]
    },
    {
      "cell_type": "code",
      "execution_count": null,
      "metadata": {
        "colab": {
          "base_uri": "https://localhost:8080/"
        },
        "id": "O4E4RHz_Oe2_",
        "outputId": "4c509277-cc89-4f86-93d9-fb902715f2eb"
      },
      "outputs": [],
      "source": [
        "mlflow.set_experiment('Concrete-Strength-Experiments')\n",
        "\n",
        "# Start a new MLflow run\n",
        "with mlflow.start_run():\n",
        "    # Set a custom run name\n",
        "    run_name = \"Random Forest\"\n",
        "    mlflow.set_tag(\"mlflow.runName\", run_name)\n",
        "\n",
        "    # Train the model\n",
        "    train(model=random_forest, X_train=X_train, y_train=y_train)\n",
        "\n",
        "    # Log hyperparameters\n",
        "    mlflow.log_param('n_estimators', random_forest.n_estimators)\n",
        "    mlflow.log_param('max_depth', random_forest.max_depth)\n",
        "\n",
        "    # Evaluate on the test set\n",
        "    evaluate(model=random_forest, X_test=X_test, y_test=y_test)\n",
        "\n",
        "    # Perform cross-validation\n",
        "    k = 20\n",
        "    kfold = KFold(n_splits = k, random_state = 70, shuffle = True)\n",
        "    K_results = cross_val_score(random_forest, X, y, cv = kfold)\n",
        "    accuracy = np.mean(abs(K_results))\n",
        "\n",
        "    # Log cross-validation metric\n",
        "    mlflow.log_metric('cv_accuracy', accuracy)\n",
        "    print('cv accuracy: ', accuracy)\n",
        "\n",
        "    # Log the model\n",
        "    mlflow.sklearn.log_model(random_forest, 'random-forest')\n",
        "\n",
        "    # Print the run UUID\n",
        "    print('Model run: ', mlflow.active_run().info.run_uuid)\n",
        "\n",
        "# End the MLflow run\n",
        "mlflow.end_run()\n"
      ]
    },
    {
      "cell_type": "markdown",
      "metadata": {
        "id": "vT9fGznRMqky"
      },
      "source": [
        "The model has overfitted because the train and test scores are supposed to be closer."
      ]
    },
    {
      "cell_type": "markdown",
      "metadata": {
        "id": "CSzbAeA1Mqkz"
      },
      "source": [
        "# Gradient Boosting Regressor"
      ]
    },
    {
      "cell_type": "code",
      "execution_count": null,
      "metadata": {
        "id": "-qM94fgVVAPg"
      },
      "outputs": [],
      "source": [
        "# gradient boosting model\n",
        "gradient_boosting = GradientBoostingRegressor()"
      ]
    },
    {
      "cell_type": "code",
      "execution_count": null,
      "metadata": {
        "colab": {
          "base_uri": "https://localhost:8080/"
        },
        "id": "S9TPTjfyU8Hu",
        "outputId": "af055a69-0df1-49a2-e8b4-600058e912ca"
      },
      "outputs": [],
      "source": [
        "# Start a new MLflow run\n",
        "with mlflow.start_run():\n",
        "    # Set a custom run name\n",
        "    run_name = \"Gradient Boosting\"\n",
        "    mlflow.set_tag(\"mlflow.runName\", run_name)\n",
        "\n",
        "    # Train the model\n",
        "    train(model=gradient_boosting, X_train=X_train, y_train=y_train)\n",
        "\n",
        "    # Log hyperparameters\n",
        "    mlflow.log_param('n_estimators', gradient_boosting.n_estimators)\n",
        "\n",
        "    # Evaluate on the test set\n",
        "    evaluate(model=gradient_boosting, X_test = X_test, y_test=y_test)\n",
        "\n",
        "    # Perform cross-validation\n",
        "    k = 20\n",
        "    kfold = KFold(n_splits = k, random_state = 70, shuffle = True)\n",
        "    K_results = cross_val_score(gradient_boosting, X, y, cv = kfold)\n",
        "    accuracy = np.mean(abs(K_results))\n",
        "\n",
        "    # Log cross-validation metric\n",
        "    mlflow.log_metric('cv_accuracy', accuracy)\n",
        "    print('cv accuracy: ', accuracy)\n",
        "\n",
        "    # Log the model\n",
        "    mlflow.sklearn.log_model(gradient_boosting, 'gradient-boosting')\n",
        "\n",
        "    # Print the run UUID\n",
        "    print('Model run: ', mlflow.active_run().info.run_uuid)\n",
        "\n",
        "# End the MLflow run\n",
        "mlflow.end_run()"
      ]
    },
    {
      "cell_type": "markdown",
      "metadata": {
        "id": "KNkeLkQPMqk-"
      },
      "source": [
        "# Ada Boosting Regressor"
      ]
    },
    {
      "cell_type": "code",
      "execution_count": null,
      "metadata": {
        "id": "yHKzg4qWWb-m"
      },
      "outputs": [],
      "source": [
        "# ada boosting model\n",
        "ada_boost = AdaBoostRegressor()"
      ]
    },
    {
      "cell_type": "code",
      "execution_count": null,
      "metadata": {
        "colab": {
          "base_uri": "https://localhost:8080/"
        },
        "id": "kCmiu1XkWQav",
        "outputId": "0f721df4-1dfd-4b9e-8073-5dcaf365243a"
      },
      "outputs": [],
      "source": [
        "# Start a new MLflow run\n",
        "with mlflow.start_run():\n",
        "    # Set a custom run name\n",
        "    run_name = \"Ada Boost\"\n",
        "    mlflow.set_tag(\"mlflow.runName\", run_name)\n",
        "\n",
        "    # Train the model\n",
        "    train(model=ada_boost, X_train=X_train, y_train=y_train)\n",
        "\n",
        "    # Log hyperparameters\n",
        "    mlflow.log_param('n_estimators', ada_boost.n_estimators)\n",
        "\n",
        "    # Evaluate on the test set\n",
        "    evaluate(model=ada_boost, X_test = X_test, y_test=y_test)\n",
        "\n",
        "    # Perform cross-validation\n",
        "    k = 20\n",
        "    kfold = KFold(n_splits = k, random_state = 70, shuffle = True)\n",
        "    K_results = cross_val_score(ada_boost, X, y, cv = kfold)\n",
        "    accuracy = np.mean(abs(K_results))\n",
        "\n",
        "    # Log cross-validation metric\n",
        "    mlflow.log_metric('cv_accuracy', accuracy)\n",
        "\n",
        "    print('cv accuracy: ', accuracy)\n",
        "\n",
        "    # Log the model\n",
        "    mlflow.sklearn.log_model(ada_boost, 'ada-boost')\n",
        "\n",
        "    # Print the run UUID\n",
        "    print('Model run: ', mlflow.active_run().info.run_uuid)\n",
        "\n",
        "# End the MLflow run\n",
        "mlflow.end_run()"
      ]
    },
    {
      "cell_type": "markdown",
      "metadata": {
        "id": "52uFlFF8MqlA"
      },
      "source": [
        "# KNN Regressor"
      ]
    },
    {
      "cell_type": "code",
      "execution_count": null,
      "metadata": {
        "id": "-QieEmgDMqlA"
      },
      "outputs": [],
      "source": [
        "# checking for different values of neighbors to determine the best number\n",
        "\n",
        "diff_k = []\n",
        "for i in range(1, 45):\n",
        "    knn = KNeighborsRegressor(n_neighbors = i)\n",
        "    knn.fit(X_train, y_train)\n",
        "    pred_i = knn.predict(X_test)\n",
        "    diff_k.append(np.mean(pred_i != y_test))"
      ]
    },
    {
      "cell_type": "markdown",
      "metadata": {
        "id": "vanTibatMqlA"
      },
      "source": [
        "Let us visualize the mean error for each value"
      ]
    },
    {
      "cell_type": "code",
      "execution_count": null,
      "metadata": {
        "colab": {
          "base_uri": "https://localhost:8080/",
          "height": 578
        },
        "id": "PHt_x_hDMqlA",
        "outputId": "8588acb4-48fe-4705-e1b8-255886f83416"
      },
      "outputs": [],
      "source": [
        "plt.figure(figsize = (12, 6))\n",
        "plt.plot(range(1, 45), diff_k, color = 'blue', linestyle = 'dashed', marker = 'o', markerfacecolor = 'red', markersize = 10)\n",
        "plt.title('Different K - Values', fontsize = 20)\n",
        "plt.xlabel('K Values', fontsize = 15)\n",
        "plt.ylabel('Mean error', fontsize = 15);"
      ]
    },
    {
      "cell_type": "code",
      "execution_count": null,
      "metadata": {
        "id": "7ZQrM1JrXwI0"
      },
      "outputs": [],
      "source": [
        "# k = 3 is a better choice\n",
        "KNN = KNeighborsRegressor(n_neighbors = 3)"
      ]
    },
    {
      "cell_type": "code",
      "execution_count": null,
      "metadata": {
        "colab": {
          "base_uri": "https://localhost:8080/"
        },
        "id": "KZiZDhvmXw7I",
        "outputId": "a1c484e9-7e73-40fb-b0c8-3482c8162584"
      },
      "outputs": [],
      "source": [
        "# Start a new MLflow run\n",
        "with mlflow.start_run():\n",
        "    # Set a custom run name\n",
        "    run_name = \"KNN Regressor\"\n",
        "    mlflow.set_tag(\"mlflow.runName\", run_name)\n",
        "\n",
        "    # Train the model\n",
        "    train(model=KNN, X_train=X_train, y_train=y_train)\n",
        "\n",
        "    # Log hyperparameters\n",
        "    mlflow.log_param('n_neighbors', KNN.n_neighbors)\n",
        "\n",
        "    # Evaluate on the test set\n",
        "    evaluate(model=KNN, X_test = X_test, y_test=y_test)\n",
        "\n",
        "    # Perform cross-validation\n",
        "    k = 20\n",
        "    kfold = KFold(n_splits = k, random_state = 70, shuffle = True)\n",
        "    K_results = cross_val_score(KNN, X, y, cv = kfold)\n",
        "    accuracy = np.mean(abs(K_results))\n",
        "\n",
        "    # Log cross-validation metric\n",
        "    mlflow.log_metric('cv_accuracy', accuracy)\n",
        "\n",
        "    print('cv accuracy: ', accuracy)\n",
        "\n",
        "    # Log the model\n",
        "    mlflow.sklearn.log_model(KNN, 'KNN')\n",
        "\n",
        "    # Print the run UUID\n",
        "    print('Model run: ', mlflow.active_run().info.run_uuid)\n",
        "\n",
        "# End the MLflow run\n",
        "mlflow.end_run()"
      ]
    },
    {
      "cell_type": "markdown",
      "metadata": {
        "id": "ba53xqmfMqlC"
      },
      "source": [
        "# Bagging Regressor"
      ]
    },
    {
      "cell_type": "code",
      "execution_count": null,
      "metadata": {
        "id": "cHj1u0PaYsdU"
      },
      "outputs": [],
      "source": [
        "# bagging regressor model\n",
        "bagging = BaggingRegressor()"
      ]
    },
    {
      "cell_type": "code",
      "execution_count": null,
      "metadata": {
        "colab": {
          "base_uri": "https://localhost:8080/"
        },
        "id": "-4Egu-dNY-s1",
        "outputId": "309d1f06-8e22-4bbb-bbae-5b998acad056"
      },
      "outputs": [],
      "source": [
        "# Start a new MLflow run\n",
        "with mlflow.start_run():\n",
        "    # Set a custom run name\n",
        "    run_name = \"Bagging\"\n",
        "    mlflow.set_tag(\"mlflow.runName\", run_name)\n",
        "\n",
        "    # Train the model\n",
        "    train(model=bagging, X_train=X_train, y_train=y_train)\n",
        "\n",
        "    # Log hyperparameters\n",
        "    mlflow.log_param('n_estimators', bagging.n_estimators)\n",
        "\n",
        "    # Evaluate on the test set\n",
        "    evaluate(model=bagging, X_test = X_test, y_test=y_test)\n",
        "\n",
        "    # Perform cross-validation\n",
        "    k = 20\n",
        "    kfold = KFold(n_splits = k, random_state = 70, shuffle = True)\n",
        "    K_results = cross_val_score(ada_boost, X, y, cv = kfold)\n",
        "    accuracy = np.mean(abs(K_results))\n",
        "\n",
        "    # Log cross-validation metric\n",
        "    mlflow.log_metric('cv_accuracy', accuracy)\n",
        "    print('cv accuracy: {:.3f}'.format(accuracy))\n",
        "\n",
        "    # Log the model\n",
        "    mlflow.sklearn.log_model(bagging, 'bagging')\n",
        "\n",
        "    # Print the run UUID\n",
        "    print('Model run: ', mlflow.active_run().info.run_uuid)\n",
        "\n",
        "# End the MLflow run\n",
        "mlflow.end_run()"
      ]
    },
    {
      "cell_type": "markdown",
      "metadata": {
        "id": "2TialJOAMqlD"
      },
      "source": [
        "# Support Vector Regressor"
      ]
    },
    {
      "cell_type": "code",
      "execution_count": null,
      "metadata": {
        "id": "xMj6UVCwZfU0"
      },
      "outputs": [],
      "source": [
        "# support vector model\n",
        "SVR = SVR(kernel = 'linear')"
      ]
    },
    {
      "cell_type": "code",
      "execution_count": null,
      "metadata": {
        "colab": {
          "base_uri": "https://localhost:8080/"
        },
        "id": "6FYMCyx1Zhwd",
        "outputId": "e8eb3752-6e35-4de4-ea95-dc1bdfed32f1"
      },
      "outputs": [],
      "source": [
        "# Start a new MLflow run\n",
        "with mlflow.start_run():\n",
        "    # Set a custom run name\n",
        "    run_name = \"svr\"\n",
        "    mlflow.set_tag(\"mlflow.runName\", run_name)\n",
        "\n",
        "    # Train the model\n",
        "    train(model=SVR, X_train=X_train, y_train=y_train)\n",
        "\n",
        "    # Log hyperparameters\n",
        "    params = {\n",
        "        'kernel': SVR.kernel,\n",
        "    }\n",
        "    for key, value in params.items():\n",
        "      mlflow.log_param(key, value)\n",
        "\n",
        "    # Evaluate on the test set\n",
        "    evaluate(model=SVR, X_test = X_test, y_test=y_test)\n",
        "\n",
        "    # Perform cross-validation\n",
        "    k = 20\n",
        "    kfold = KFold(n_splits = k, random_state = 70, shuffle = True)\n",
        "    K_results = cross_val_score(ada_boost, X, y, cv = kfold)\n",
        "    accuracy = np.mean(abs(K_results))\n",
        "\n",
        "    # Log cross-validation metric\n",
        "    mlflow.log_metric('cv_accuracy', accuracy)\n",
        "    print('cv accuracy: {:.3f}'.format(accuracy))\n",
        "\n",
        "    # Log the model\n",
        "    mlflow.sklearn.log_model(SVR, 'svr')\n",
        "\n",
        "    # Print the run UUID\n",
        "    print('Model run: ', mlflow.active_run().info.run_uuid)\n",
        "\n",
        "# End the MLflow run\n",
        "mlflow.end_run()"
      ]
    },
    {
      "cell_type": "markdown",
      "metadata": {
        "id": "qN7eDJ0pMqlF"
      },
      "source": [
        "# XGBoost Regressor"
      ]
    },
    {
      "cell_type": "code",
      "execution_count": null,
      "metadata": {
        "id": "LbUPeJwjajYO"
      },
      "outputs": [],
      "source": [
        "# xgboost regressor model\n",
        "xgr = XGBRegressor()"
      ]
    },
    {
      "cell_type": "code",
      "execution_count": null,
      "metadata": {
        "colab": {
          "base_uri": "https://localhost:8080/"
        },
        "id": "nZTW4B5iauJz",
        "outputId": "a6215850-5994-49cf-c0cd-453244647495"
      },
      "outputs": [],
      "source": [
        "# Start a new MLflow run\n",
        "with mlflow.start_run():\n",
        "    # Set a custom run name\n",
        "    run_name = \"XGBoost\"\n",
        "    mlflow.set_tag(\"mlflow.runName\", run_name)\n",
        "\n",
        "    # Train the model\n",
        "    train(model=xgr, X_train=X_train, y_train=y_train)\n",
        "\n",
        "\n",
        "    # Evaluate on the test set\n",
        "    evaluate(model=xgr, X_test = X_test, y_test=y_test)\n",
        "\n",
        "    # Perform cross-validation\n",
        "    k = 20\n",
        "    kfold = KFold(n_splits = k, random_state = 70, shuffle = True)\n",
        "    K_results = cross_val_score(xgr, X, y, cv = kfold)\n",
        "    accuracy = np.mean(abs(K_results))\n",
        "\n",
        "    # Log cross-validation metric\n",
        "    mlflow.log_metric('cv_accuracy', accuracy)\n",
        "    print('cv accuracy: {:.3f}'.format(accuracy))\n",
        "\n",
        "    # Log the model\n",
        "    mlflow.sklearn.log_model(xgr, 'xgboost')\n",
        "\n",
        "    # Print the run UUID\n",
        "    print('Model run: ', mlflow.active_run().info.run_uuid)\n",
        "\n",
        "# End the MLflow run\n",
        "mlflow.end_run()"
      ]
    },
    {
      "cell_type": "markdown",
      "metadata": {
        "id": "eEijjWrGMqlH"
      },
      "source": [
        "# Decision Tree Regressor"
      ]
    },
    {
      "cell_type": "code",
      "execution_count": null,
      "metadata": {
        "id": "OSrT6YBwbBi6"
      },
      "outputs": [],
      "source": [
        "# xgboost regressor model\n",
        "dt_model = DecisionTreeRegressor()"
      ]
    },
    {
      "cell_type": "code",
      "execution_count": null,
      "metadata": {
        "colab": {
          "base_uri": "https://localhost:8080/"
        },
        "id": "f8MwYZ3ubNt-",
        "outputId": "8a7b7201-f126-46bd-b80d-4041a69d5a33"
      },
      "outputs": [],
      "source": [
        "# Start a new MLflow run\n",
        "with mlflow.start_run():\n",
        "    # Set a custom run name\n",
        "    run_name = \"Decision Tree\"\n",
        "    mlflow.set_tag(\"mlflow.runName\", run_name)\n",
        "\n",
        "    # Train the model\n",
        "    train(model=dt_model, X_train=X_train, y_train=y_train)\n",
        "\n",
        "    # Log hyperparameters\n",
        "    mlflow.log_param(\"max_depth\", dt_model.max_depth)\n",
        "    mlflow.log_param(\"min_samples_split\", dt_model.min_samples_split)\n",
        "    mlflow.log_param(\"min_samples_leaf\", dt_model.min_samples_leaf)\n",
        "    mlflow.log_param(\"max_features\", dt_model.max_features)\n",
        "\n",
        "    # Evaluate on the test set\n",
        "    evaluate(model=dt_model, X_test=X_test, y_test=y_test)\n",
        "\n",
        "    # Perform cross-validation\n",
        "    k = 20\n",
        "    kfold = KFold(n_splits = k, random_state = 70, shuffle = True)\n",
        "    K_results = cross_val_score(dt_model, X, y, cv = kfold)\n",
        "    accuracy = np.mean(abs(K_results))\n",
        "\n",
        "    # Log cross-validation metric\n",
        "    mlflow.log_metric('cv_accuracy', accuracy)\n",
        "    print('cv accuracy: ', accuracy)\n",
        "\n",
        "    # Log the model\n",
        "    mlflow.sklearn.log_model(dt_model, 'decision-tree')\n",
        "\n",
        "    # Print the run UUID\n",
        "    print('Model run: ', mlflow.active_run().info.run_uuid)\n",
        "\n",
        "# End the MLflow run\n",
        "mlflow.end_run()"
      ]
    },
    {
      "cell_type": "markdown",
      "metadata": {},
      "source": [
        "# Model Evaluation Metrics"
      ]
    },
    {
      "cell_type": "markdown",
      "metadata": {},
      "source": [
        "Now let us evaluate the metrics of our tested models using **mlflow**:"
      ]
    },
    {
      "cell_type": "code",
      "execution_count": null,
      "metadata": {},
      "outputs": [],
      "source": [
        "Image(filename = './images/MLFlow-image-1.jpeg')"
      ]
    },
    {
      "cell_type": "markdown",
      "metadata": {},
      "source": [
        "As we can see, our best model was XGBoost. Let's now register and save our model using MLFlow:"
      ]
    },
    {
      "cell_type": "code",
      "execution_count": null,
      "metadata": {},
      "outputs": [],
      "source": [
        "xgboost_run_id = '2f650498d25a482cb9f66c9f9bee6b96'\n",
        "\n",
        "model_uri = f'runs:/{xgboost_run_id}/model'\n",
        "model_details = mlflow.register_model(model_uri, 'XGBoost Model')"
      ]
    },
    {
      "cell_type": "code",
      "execution_count": null,
      "metadata": {},
      "outputs": [],
      "source": [
        "mlflow.sklearn.save_model(model_details, 'model')"
      ]
    }
  ],
  "metadata": {
    "colab": {
      "provenance": []
    },
    "kernelspec": {
      "display_name": "Python 3.10.4 64-bit",
      "language": "python",
      "name": "python3"
    },
    "language_info": {
      "codemirror_mode": {
        "name": "ipython",
        "version": 3
      },
      "file_extension": ".py",
      "mimetype": "text/x-python",
      "name": "python",
      "nbconvert_exporter": "python",
      "pygments_lexer": "ipython3",
      "version": "3.10.11"
    },
    "orig_nbformat": 4,
    "vscode": {
      "interpreter": {
        "hash": "c3503f95e0e8f4afdf6702396a7a2a29cae9f67572acfe092405dcaa2579b817"
      }
    }
  },
  "nbformat": 4,
  "nbformat_minor": 0
}
