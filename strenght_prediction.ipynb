{
 "cells": [
  {
   "cell_type": "markdown",
   "metadata": {},
   "source": [
    "# Context"
   ]
  },
  {
   "cell_type": "markdown",
   "metadata": {},
   "source": [
    "Concrete is the most used material for construction in the world! There are some components that should be combined to make the concrete. These components can affect the compressive strength of the concrete. To obtain the real compressive strength of concrete (target labels in the dataset), an engineer needs to break the cylinder samples under the compression-testing machine. The failure load is divided by the cylinder's cross-section to obtain the compressive strength. Engineers use different kinds of concretes for different building purposes. For example, the strength of concrete used for residential buildings should not be lower than 2500 psi (17.2 MPa). Concrete is a material with high strength in compression, but low strength in tension. That is why engineers use reinforced concrete (usually with steel rebars) to build structures."
   ]
  },
  {
   "cell_type": "markdown",
   "metadata": {},
   "source": [
    "The raw dataset has columns labeled as:"
   ]
  },
  {
   "cell_type": "markdown",
   "metadata": {},
   "source": [
    "* Cement (component 1) -- quantitative -- kg in a m3 mixture -- Input Variable\n",
    "* Blast Furnace Slag (component 2) -- quantitative -- kg in a m3 mixture -- Input Variable\n",
    "* Fly Ash (component 3) -- quantitative -- kg in a m3 mixture -- Input Variable\n",
    "* Water (component 4) -- quantitative -- kg in a m3 mixture -- Input Variable\n",
    "* Superplasticizer (component 5) -- quantitative -- kg in a m3 mixture -- Input Variable\n",
    "* Coarse Aggregate (component 6) -- quantitative -- kg in a m3 mixture -- Input Variable\n",
    "* Fine Aggregate (component 7) -- quantitative -- kg in a m3 mixture -- Input Variable\n",
    "* Age -- quantitative -- Day (1~365) -- Input Variable\n",
    "* Concrete compressive strength -- quantitative -- MPa -- Output Variable"
   ]
  },
  {
   "cell_type": "markdown",
   "metadata": {},
   "source": [
    "# Imports"
   ]
  },
  {
   "cell_type": "code",
   "execution_count": 1,
   "metadata": {},
   "outputs": [],
   "source": [
    "import numpy as np\n",
    "import pandas as pd\n",
    "import matplotlib.pyplot as plt\n",
    "import seaborn as sns\n",
    "import itertools\n",
    "%matplotlib inline\n",
    "sns.set_style(\"white\")\n",
    "\n",
    "from sklearn.preprocessing import StandardScaler\n",
    "from sklearn.model_selection import train_test_split\n",
    "from sklearn.linear_model import LinearRegression, Ridge, Lasso\n",
    "from sklearn.neighbors import KNeighborsRegressor\n",
    "from sklearn.tree import DecisionTreeRegressor\n",
    "from sklearn.ensemble import RandomForestRegressor, GradientBoostingRegressor, AdaBoostRegressor\n",
    "from sklearn.svm import SVR\n",
    "from sklearn import metrics\n",
    "from sklearn.ensemble import VotingRegressor\n",
    "from scipy import stats\n",
    "from scipy.stats import zscore\n",
    "from sklearn.metrics import mean_absolute_error, median_absolute_error, r2_score\n",
    "from sklearn.model_selection import KFold\n",
    "from sklearn.model_selection import cross_val_score\n",
    "from sklearn import preprocessing\n",
    "from sklearn.preprocessing import PolynomialFeatures\n",
    "from sklearn.cluster import KMeans\n",
    "from sklearn.utils import resample\n"
   ]
  },
  {
   "cell_type": "code",
   "execution_count": 2,
   "metadata": {},
   "outputs": [],
   "source": [
    "import warnings\n",
    "warnings.filterwarnings(\"ignore\")"
   ]
  },
  {
   "cell_type": "markdown",
   "metadata": {},
   "source": [
    "# Functions"
   ]
  },
  {
   "cell_type": "code",
   "execution_count": 3,
   "metadata": {},
   "outputs": [],
   "source": [
    "def iqr(data, column):\n",
    "    Q1 = data[column].quantile(q = 0.25)\n",
    "    Q3 = data[column].quantile(q = 0.75)\n",
    "    print('1st Quartile (Q1) is: ', Q1)\n",
    "    print('3rd Quartile (Q3) is: ', Q3)\n",
    "    print('Interqualile range (IQR) is: ', stats.iqr(data[column]))\n",
    "    return None"
   ]
  },
  {
   "cell_type": "code",
   "execution_count": 4,
   "metadata": {},
   "outputs": [],
   "source": [
    "# outlier detection from IQR range\n",
    "def outlier_detection(data, column):\n",
    "    Q1 = data[column].quantile(q = 0.25)\n",
    "    Q3 = data[column].quantile(q = 0.75)\n",
    "\n",
    "    L_outliers = Q1 - 1.5 * (Q3 - Q1)\n",
    "    U_outliers = Q3 + 1.5 * (Q3 - Q1)\n",
    "\n",
    "    print(f'Lower outliers limit in {column}: ', L_outliers)\n",
    "    print(f'Upper outliers limit in {column}: ', U_outliers)\n",
    "    return None"
   ]
  },
  {
   "cell_type": "code",
   "execution_count": 5,
   "metadata": {},
   "outputs": [],
   "source": [
    "# checking for the presence of outliers with upper and lower limits\n",
    "def num_outliers(data, column):\n",
    "\n",
    "    Q1 = data[column].quantile(q = 0.25)\n",
    "    Q3 = data[column].quantile(q = 0.75)\n",
    "\n",
    "    L_outliers = Q1 - 1.5 * (Q3 - Q1)\n",
    "    U_outliers = Q3 + 1.5 * (Q3 - Q1)\n",
    "\n",
    "    number_upper = data[data[column] > U_outliers][column].count()\n",
    "    number_lower = data[data[column] < L_outliers][column].count()\n",
    "\n",
    "    percentage_number_upper = ((number_upper * 100) / len(data)).round(2)\n",
    "    percentage_number_lower = ((number_lower * 100) / len(data)).round(2)\n",
    "\n",
    "    print(f'Number of outliers in {column} upper: ', number_upper)\n",
    "    print(f'Number of outliers in {column} lower: ', number_lower)\n",
    "\n",
    "    print(f'% of oulier in {column} upper: ', percentage_number_upper, '%')\n",
    "    print(f'% of oulier in {column} lower: ', percentage_number_lower, '%')\n",
    "    return None"
   ]
  },
  {
   "cell_type": "markdown",
   "metadata": {},
   "source": [
    "# Exploratory Data Analysis"
   ]
  },
  {
   "cell_type": "code",
   "execution_count": 6,
   "metadata": {},
   "outputs": [],
   "source": [
    "df = pd.read_csv('Concrete_Data.csv')"
   ]
  },
  {
   "cell_type": "code",
   "execution_count": 7,
   "metadata": {},
   "outputs": [
    {
     "data": {
      "text/html": [
       "<div>\n",
       "<style scoped>\n",
       "    .dataframe tbody tr th:only-of-type {\n",
       "        vertical-align: middle;\n",
       "    }\n",
       "\n",
       "    .dataframe tbody tr th {\n",
       "        vertical-align: top;\n",
       "    }\n",
       "\n",
       "    .dataframe thead th {\n",
       "        text-align: right;\n",
       "    }\n",
       "</style>\n",
       "<table border=\"1\" class=\"dataframe\">\n",
       "  <thead>\n",
       "    <tr style=\"text-align: right;\">\n",
       "      <th></th>\n",
       "      <th>Cement (component 1)(kg in a m^3 mixture)</th>\n",
       "      <th>Blast Furnace Slag (component 2)(kg in a m^3 mixture)</th>\n",
       "      <th>Fly Ash (component 3)(kg in a m^3 mixture)</th>\n",
       "      <th>Water  (component 4)(kg in a m^3 mixture)</th>\n",
       "      <th>Superplasticizer (component 5)(kg in a m^3 mixture)</th>\n",
       "      <th>Coarse Aggregate  (component 6)(kg in a m^3 mixture)</th>\n",
       "      <th>Fine Aggregate (component 7)(kg in a m^3 mixture)</th>\n",
       "      <th>Age (day)</th>\n",
       "      <th>Concrete compressive strength(MPa, megapascals)</th>\n",
       "    </tr>\n",
       "  </thead>\n",
       "  <tbody>\n",
       "    <tr>\n",
       "      <th>0</th>\n",
       "      <td>540,0</td>\n",
       "      <td>0,0</td>\n",
       "      <td>0,0</td>\n",
       "      <td>162,0</td>\n",
       "      <td>2,5</td>\n",
       "      <td>1040,0</td>\n",
       "      <td>676,0</td>\n",
       "      <td>28</td>\n",
       "      <td>79,99</td>\n",
       "    </tr>\n",
       "    <tr>\n",
       "      <th>1</th>\n",
       "      <td>540,0</td>\n",
       "      <td>0,0</td>\n",
       "      <td>0,0</td>\n",
       "      <td>162,0</td>\n",
       "      <td>2,5</td>\n",
       "      <td>1055,0</td>\n",
       "      <td>676,0</td>\n",
       "      <td>28</td>\n",
       "      <td>61,89</td>\n",
       "    </tr>\n",
       "    <tr>\n",
       "      <th>2</th>\n",
       "      <td>332,5</td>\n",
       "      <td>142,5</td>\n",
       "      <td>0,0</td>\n",
       "      <td>228,0</td>\n",
       "      <td>0,0</td>\n",
       "      <td>932,0</td>\n",
       "      <td>594,0</td>\n",
       "      <td>270</td>\n",
       "      <td>40,27</td>\n",
       "    </tr>\n",
       "    <tr>\n",
       "      <th>3</th>\n",
       "      <td>332,5</td>\n",
       "      <td>142,5</td>\n",
       "      <td>0,0</td>\n",
       "      <td>228,0</td>\n",
       "      <td>0,0</td>\n",
       "      <td>932,0</td>\n",
       "      <td>594,0</td>\n",
       "      <td>365</td>\n",
       "      <td>41,05</td>\n",
       "    </tr>\n",
       "    <tr>\n",
       "      <th>4</th>\n",
       "      <td>198,6</td>\n",
       "      <td>132,4</td>\n",
       "      <td>0,0</td>\n",
       "      <td>192,0</td>\n",
       "      <td>0,0</td>\n",
       "      <td>978,4</td>\n",
       "      <td>825,5</td>\n",
       "      <td>360</td>\n",
       "      <td>44,30</td>\n",
       "    </tr>\n",
       "  </tbody>\n",
       "</table>\n",
       "</div>"
      ],
      "text/plain": [
       "  Cement (component 1)(kg in a m^3 mixture)  \\\n",
       "0                                    540,0    \n",
       "1                                    540,0    \n",
       "2                                    332,5    \n",
       "3                                    332,5    \n",
       "4                                    198,6    \n",
       "\n",
       "  Blast Furnace Slag (component 2)(kg in a m^3 mixture)  \\\n",
       "0                                               0,0       \n",
       "1                                               0,0       \n",
       "2                                             142,5       \n",
       "3                                             142,5       \n",
       "4                                             132,4       \n",
       "\n",
       "  Fly Ash (component 3)(kg in a m^3 mixture)  \\\n",
       "0                                       0,0    \n",
       "1                                       0,0    \n",
       "2                                       0,0    \n",
       "3                                       0,0    \n",
       "4                                       0,0    \n",
       "\n",
       "  Water  (component 4)(kg in a m^3 mixture)  \\\n",
       "0                                    162,0    \n",
       "1                                    162,0    \n",
       "2                                    228,0    \n",
       "3                                    228,0    \n",
       "4                                    192,0    \n",
       "\n",
       "  Superplasticizer (component 5)(kg in a m^3 mixture)  \\\n",
       "0                                               2,5     \n",
       "1                                               2,5     \n",
       "2                                               0,0     \n",
       "3                                               0,0     \n",
       "4                                               0,0     \n",
       "\n",
       "  Coarse Aggregate  (component 6)(kg in a m^3 mixture)  \\\n",
       "0                                            1040,0      \n",
       "1                                            1055,0      \n",
       "2                                             932,0      \n",
       "3                                             932,0      \n",
       "4                                             978,4      \n",
       "\n",
       "  Fine Aggregate (component 7)(kg in a m^3 mixture)  Age (day)  \\\n",
       "0                                            676,0          28   \n",
       "1                                            676,0          28   \n",
       "2                                            594,0         270   \n",
       "3                                            594,0         365   \n",
       "4                                            825,5         360   \n",
       "\n",
       "  Concrete compressive strength(MPa, megapascals)   \n",
       "0                                           79,99   \n",
       "1                                           61,89   \n",
       "2                                           40,27   \n",
       "3                                           41,05   \n",
       "4                                           44,30   "
      ]
     },
     "execution_count": 7,
     "metadata": {},
     "output_type": "execute_result"
    }
   ],
   "source": [
    "df.head()"
   ]
  },
  {
   "cell_type": "markdown",
   "metadata": {},
   "source": [
    "It's necessary to replace commas to dots first."
   ]
  },
  {
   "cell_type": "code",
   "execution_count": 8,
   "metadata": {},
   "outputs": [],
   "source": [
    "for column in df.columns:\n",
    "    # convert all columns to string\n",
    "    df[column] = df[column].astype(str)\n",
    "    # replace commas to dots\n",
    "    df[column] = df[column].str.replace(',', '.')"
   ]
  },
  {
   "cell_type": "code",
   "execution_count": 9,
   "metadata": {},
   "outputs": [
    {
     "data": {
      "text/html": [
       "<div>\n",
       "<style scoped>\n",
       "    .dataframe tbody tr th:only-of-type {\n",
       "        vertical-align: middle;\n",
       "    }\n",
       "\n",
       "    .dataframe tbody tr th {\n",
       "        vertical-align: top;\n",
       "    }\n",
       "\n",
       "    .dataframe thead th {\n",
       "        text-align: right;\n",
       "    }\n",
       "</style>\n",
       "<table border=\"1\" class=\"dataframe\">\n",
       "  <thead>\n",
       "    <tr style=\"text-align: right;\">\n",
       "      <th></th>\n",
       "      <th>Cement (component 1)(kg in a m^3 mixture)</th>\n",
       "      <th>Blast Furnace Slag (component 2)(kg in a m^3 mixture)</th>\n",
       "      <th>Fly Ash (component 3)(kg in a m^3 mixture)</th>\n",
       "      <th>Water  (component 4)(kg in a m^3 mixture)</th>\n",
       "      <th>Superplasticizer (component 5)(kg in a m^3 mixture)</th>\n",
       "      <th>Coarse Aggregate  (component 6)(kg in a m^3 mixture)</th>\n",
       "      <th>Fine Aggregate (component 7)(kg in a m^3 mixture)</th>\n",
       "      <th>Age (day)</th>\n",
       "      <th>Concrete compressive strength(MPa, megapascals)</th>\n",
       "    </tr>\n",
       "  </thead>\n",
       "  <tbody>\n",
       "    <tr>\n",
       "      <th>0</th>\n",
       "      <td>540.0</td>\n",
       "      <td>0.0</td>\n",
       "      <td>0.0</td>\n",
       "      <td>162.0</td>\n",
       "      <td>2.5</td>\n",
       "      <td>1040.0</td>\n",
       "      <td>676.0</td>\n",
       "      <td>28</td>\n",
       "      <td>79.99</td>\n",
       "    </tr>\n",
       "    <tr>\n",
       "      <th>1</th>\n",
       "      <td>540.0</td>\n",
       "      <td>0.0</td>\n",
       "      <td>0.0</td>\n",
       "      <td>162.0</td>\n",
       "      <td>2.5</td>\n",
       "      <td>1055.0</td>\n",
       "      <td>676.0</td>\n",
       "      <td>28</td>\n",
       "      <td>61.89</td>\n",
       "    </tr>\n",
       "    <tr>\n",
       "      <th>2</th>\n",
       "      <td>332.5</td>\n",
       "      <td>142.5</td>\n",
       "      <td>0.0</td>\n",
       "      <td>228.0</td>\n",
       "      <td>0.0</td>\n",
       "      <td>932.0</td>\n",
       "      <td>594.0</td>\n",
       "      <td>270</td>\n",
       "      <td>40.27</td>\n",
       "    </tr>\n",
       "    <tr>\n",
       "      <th>3</th>\n",
       "      <td>332.5</td>\n",
       "      <td>142.5</td>\n",
       "      <td>0.0</td>\n",
       "      <td>228.0</td>\n",
       "      <td>0.0</td>\n",
       "      <td>932.0</td>\n",
       "      <td>594.0</td>\n",
       "      <td>365</td>\n",
       "      <td>41.05</td>\n",
       "    </tr>\n",
       "    <tr>\n",
       "      <th>4</th>\n",
       "      <td>198.6</td>\n",
       "      <td>132.4</td>\n",
       "      <td>0.0</td>\n",
       "      <td>192.0</td>\n",
       "      <td>0.0</td>\n",
       "      <td>978.4</td>\n",
       "      <td>825.5</td>\n",
       "      <td>360</td>\n",
       "      <td>44.30</td>\n",
       "    </tr>\n",
       "  </tbody>\n",
       "</table>\n",
       "</div>"
      ],
      "text/plain": [
       "  Cement (component 1)(kg in a m^3 mixture)  \\\n",
       "0                                    540.0    \n",
       "1                                    540.0    \n",
       "2                                    332.5    \n",
       "3                                    332.5    \n",
       "4                                    198.6    \n",
       "\n",
       "  Blast Furnace Slag (component 2)(kg in a m^3 mixture)  \\\n",
       "0                                               0.0       \n",
       "1                                               0.0       \n",
       "2                                             142.5       \n",
       "3                                             142.5       \n",
       "4                                             132.4       \n",
       "\n",
       "  Fly Ash (component 3)(kg in a m^3 mixture)  \\\n",
       "0                                       0.0    \n",
       "1                                       0.0    \n",
       "2                                       0.0    \n",
       "3                                       0.0    \n",
       "4                                       0.0    \n",
       "\n",
       "  Water  (component 4)(kg in a m^3 mixture)  \\\n",
       "0                                    162.0    \n",
       "1                                    162.0    \n",
       "2                                    228.0    \n",
       "3                                    228.0    \n",
       "4                                    192.0    \n",
       "\n",
       "  Superplasticizer (component 5)(kg in a m^3 mixture)  \\\n",
       "0                                               2.5     \n",
       "1                                               2.5     \n",
       "2                                               0.0     \n",
       "3                                               0.0     \n",
       "4                                               0.0     \n",
       "\n",
       "  Coarse Aggregate  (component 6)(kg in a m^3 mixture)  \\\n",
       "0                                            1040.0      \n",
       "1                                            1055.0      \n",
       "2                                             932.0      \n",
       "3                                             932.0      \n",
       "4                                             978.4      \n",
       "\n",
       "  Fine Aggregate (component 7)(kg in a m^3 mixture) Age (day)  \\\n",
       "0                                            676.0         28   \n",
       "1                                            676.0         28   \n",
       "2                                            594.0        270   \n",
       "3                                            594.0        365   \n",
       "4                                            825.5        360   \n",
       "\n",
       "  Concrete compressive strength(MPa, megapascals)   \n",
       "0                                           79.99   \n",
       "1                                           61.89   \n",
       "2                                           40.27   \n",
       "3                                           41.05   \n",
       "4                                           44.30   "
      ]
     },
     "execution_count": 9,
     "metadata": {},
     "output_type": "execute_result"
    }
   ],
   "source": [
    "df.head()"
   ]
  },
  {
   "cell_type": "markdown",
   "metadata": {},
   "source": [
    "In order for an easier manipulation, let's replace and short the column names."
   ]
  },
  {
   "cell_type": "code",
   "execution_count": 10,
   "metadata": {},
   "outputs": [],
   "source": [
    "df.rename(columns = {'Cement (component 1)(kg in a m^3 mixture)':'cement',\n",
    "       'Blast Furnace Slag (component 2)(kg in a m^3 mixture)':'slag',\n",
    "       'Fly Ash (component 3)(kg in a m^3 mixture)':'ash',\n",
    "       'Water  (component 4)(kg in a m^3 mixture)':'water',\n",
    "       'Superplasticizer (component 5)(kg in a m^3 mixture)':'superplastic',\n",
    "       'Coarse Aggregate  (component 6)(kg in a m^3 mixture)':'coarseagg',\n",
    "       'Fine Aggregate (component 7)(kg in a m^3 mixture)':'fineagg', \n",
    "       'Age (day)':'age',\n",
    "       'Concrete compressive strength(MPa, megapascals) ':'strength'}, inplace = True)"
   ]
  },
  {
   "cell_type": "code",
   "execution_count": 11,
   "metadata": {},
   "outputs": [
    {
     "data": {
      "text/html": [
       "<div>\n",
       "<style scoped>\n",
       "    .dataframe tbody tr th:only-of-type {\n",
       "        vertical-align: middle;\n",
       "    }\n",
       "\n",
       "    .dataframe tbody tr th {\n",
       "        vertical-align: top;\n",
       "    }\n",
       "\n",
       "    .dataframe thead th {\n",
       "        text-align: right;\n",
       "    }\n",
       "</style>\n",
       "<table border=\"1\" class=\"dataframe\">\n",
       "  <thead>\n",
       "    <tr style=\"text-align: right;\">\n",
       "      <th></th>\n",
       "      <th>cement</th>\n",
       "      <th>slag</th>\n",
       "      <th>ash</th>\n",
       "      <th>water</th>\n",
       "      <th>superplastic</th>\n",
       "      <th>coarseagg</th>\n",
       "      <th>fineagg</th>\n",
       "      <th>age</th>\n",
       "      <th>strength</th>\n",
       "    </tr>\n",
       "  </thead>\n",
       "  <tbody>\n",
       "    <tr>\n",
       "      <th>0</th>\n",
       "      <td>540.0</td>\n",
       "      <td>0.0</td>\n",
       "      <td>0.0</td>\n",
       "      <td>162.0</td>\n",
       "      <td>2.5</td>\n",
       "      <td>1040.0</td>\n",
       "      <td>676.0</td>\n",
       "      <td>28</td>\n",
       "      <td>79.99</td>\n",
       "    </tr>\n",
       "    <tr>\n",
       "      <th>1</th>\n",
       "      <td>540.0</td>\n",
       "      <td>0.0</td>\n",
       "      <td>0.0</td>\n",
       "      <td>162.0</td>\n",
       "      <td>2.5</td>\n",
       "      <td>1055.0</td>\n",
       "      <td>676.0</td>\n",
       "      <td>28</td>\n",
       "      <td>61.89</td>\n",
       "    </tr>\n",
       "    <tr>\n",
       "      <th>2</th>\n",
       "      <td>332.5</td>\n",
       "      <td>142.5</td>\n",
       "      <td>0.0</td>\n",
       "      <td>228.0</td>\n",
       "      <td>0.0</td>\n",
       "      <td>932.0</td>\n",
       "      <td>594.0</td>\n",
       "      <td>270</td>\n",
       "      <td>40.27</td>\n",
       "    </tr>\n",
       "    <tr>\n",
       "      <th>3</th>\n",
       "      <td>332.5</td>\n",
       "      <td>142.5</td>\n",
       "      <td>0.0</td>\n",
       "      <td>228.0</td>\n",
       "      <td>0.0</td>\n",
       "      <td>932.0</td>\n",
       "      <td>594.0</td>\n",
       "      <td>365</td>\n",
       "      <td>41.05</td>\n",
       "    </tr>\n",
       "    <tr>\n",
       "      <th>4</th>\n",
       "      <td>198.6</td>\n",
       "      <td>132.4</td>\n",
       "      <td>0.0</td>\n",
       "      <td>192.0</td>\n",
       "      <td>0.0</td>\n",
       "      <td>978.4</td>\n",
       "      <td>825.5</td>\n",
       "      <td>360</td>\n",
       "      <td>44.30</td>\n",
       "    </tr>\n",
       "  </tbody>\n",
       "</table>\n",
       "</div>"
      ],
      "text/plain": [
       "   cement    slag   ash   water superplastic coarseagg fineagg  age strength\n",
       "0  540.0     0.0   0.0   162.0          2.5    1040.0   676.0    28   79.99 \n",
       "1  540.0     0.0   0.0   162.0          2.5    1055.0   676.0    28   61.89 \n",
       "2  332.5   142.5   0.0   228.0          0.0     932.0   594.0   270   40.27 \n",
       "3  332.5   142.5   0.0   228.0          0.0     932.0   594.0   365   41.05 \n",
       "4  198.6   132.4   0.0   192.0          0.0     978.4   825.5   360   44.30 "
      ]
     },
     "execution_count": 11,
     "metadata": {},
     "output_type": "execute_result"
    }
   ],
   "source": [
    "df.head()"
   ]
  },
  {
   "cell_type": "markdown",
   "metadata": {},
   "source": [
    "There are 8 independent variabes and all the records are numeric."
   ]
  },
  {
   "cell_type": "code",
   "execution_count": 12,
   "metadata": {},
   "outputs": [
    {
     "data": {
      "text/plain": [
       "cement          object\n",
       "slag            object\n",
       "ash             object\n",
       "water           object\n",
       "superplastic    object\n",
       "coarseagg       object\n",
       "fineagg         object\n",
       "age             object\n",
       "strength        object\n",
       "dtype: object"
      ]
     },
     "execution_count": 12,
     "metadata": {},
     "output_type": "execute_result"
    }
   ],
   "source": [
    "df.dtypes"
   ]
  },
  {
   "cell_type": "markdown",
   "metadata": {},
   "source": [
    "Let's convert the data types of each columns"
   ]
  },
  {
   "cell_type": "code",
   "execution_count": 13,
   "metadata": {},
   "outputs": [],
   "source": [
    "for column in df.columns:\n",
    "    df[column] = df[column].astype('float64')"
   ]
  },
  {
   "cell_type": "code",
   "execution_count": 14,
   "metadata": {},
   "outputs": [],
   "source": [
    "df['age'] = df['age'].astype('int64')"
   ]
  },
  {
   "cell_type": "code",
   "execution_count": 15,
   "metadata": {},
   "outputs": [
    {
     "data": {
      "text/html": [
       "<div>\n",
       "<style scoped>\n",
       "    .dataframe tbody tr th:only-of-type {\n",
       "        vertical-align: middle;\n",
       "    }\n",
       "\n",
       "    .dataframe tbody tr th {\n",
       "        vertical-align: top;\n",
       "    }\n",
       "\n",
       "    .dataframe thead th {\n",
       "        text-align: right;\n",
       "    }\n",
       "</style>\n",
       "<table border=\"1\" class=\"dataframe\">\n",
       "  <thead>\n",
       "    <tr style=\"text-align: right;\">\n",
       "      <th></th>\n",
       "      <th>cement</th>\n",
       "      <th>slag</th>\n",
       "      <th>ash</th>\n",
       "      <th>water</th>\n",
       "      <th>superplastic</th>\n",
       "      <th>coarseagg</th>\n",
       "      <th>fineagg</th>\n",
       "      <th>age</th>\n",
       "      <th>strength</th>\n",
       "    </tr>\n",
       "  </thead>\n",
       "  <tbody>\n",
       "    <tr>\n",
       "      <th>0</th>\n",
       "      <td>540.0</td>\n",
       "      <td>0.0</td>\n",
       "      <td>0.0</td>\n",
       "      <td>162.0</td>\n",
       "      <td>2.5</td>\n",
       "      <td>1040.0</td>\n",
       "      <td>676.0</td>\n",
       "      <td>28</td>\n",
       "      <td>79.99</td>\n",
       "    </tr>\n",
       "    <tr>\n",
       "      <th>1</th>\n",
       "      <td>540.0</td>\n",
       "      <td>0.0</td>\n",
       "      <td>0.0</td>\n",
       "      <td>162.0</td>\n",
       "      <td>2.5</td>\n",
       "      <td>1055.0</td>\n",
       "      <td>676.0</td>\n",
       "      <td>28</td>\n",
       "      <td>61.89</td>\n",
       "    </tr>\n",
       "    <tr>\n",
       "      <th>2</th>\n",
       "      <td>332.5</td>\n",
       "      <td>142.5</td>\n",
       "      <td>0.0</td>\n",
       "      <td>228.0</td>\n",
       "      <td>0.0</td>\n",
       "      <td>932.0</td>\n",
       "      <td>594.0</td>\n",
       "      <td>270</td>\n",
       "      <td>40.27</td>\n",
       "    </tr>\n",
       "    <tr>\n",
       "      <th>3</th>\n",
       "      <td>332.5</td>\n",
       "      <td>142.5</td>\n",
       "      <td>0.0</td>\n",
       "      <td>228.0</td>\n",
       "      <td>0.0</td>\n",
       "      <td>932.0</td>\n",
       "      <td>594.0</td>\n",
       "      <td>365</td>\n",
       "      <td>41.05</td>\n",
       "    </tr>\n",
       "    <tr>\n",
       "      <th>4</th>\n",
       "      <td>198.6</td>\n",
       "      <td>132.4</td>\n",
       "      <td>0.0</td>\n",
       "      <td>192.0</td>\n",
       "      <td>0.0</td>\n",
       "      <td>978.4</td>\n",
       "      <td>825.5</td>\n",
       "      <td>360</td>\n",
       "      <td>44.30</td>\n",
       "    </tr>\n",
       "  </tbody>\n",
       "</table>\n",
       "</div>"
      ],
      "text/plain": [
       "   cement   slag  ash  water  superplastic  coarseagg  fineagg  age  strength\n",
       "0   540.0    0.0  0.0  162.0           2.5     1040.0    676.0   28     79.99\n",
       "1   540.0    0.0  0.0  162.0           2.5     1055.0    676.0   28     61.89\n",
       "2   332.5  142.5  0.0  228.0           0.0      932.0    594.0  270     40.27\n",
       "3   332.5  142.5  0.0  228.0           0.0      932.0    594.0  365     41.05\n",
       "4   198.6  132.4  0.0  192.0           0.0      978.4    825.5  360     44.30"
      ]
     },
     "execution_count": 15,
     "metadata": {},
     "output_type": "execute_result"
    }
   ],
   "source": [
    "df.head()"
   ]
  },
  {
   "cell_type": "code",
   "execution_count": 16,
   "metadata": {},
   "outputs": [
    {
     "data": {
      "text/plain": [
       "cement          float64\n",
       "slag            float64\n",
       "ash             float64\n",
       "water           float64\n",
       "superplastic    float64\n",
       "coarseagg       float64\n",
       "fineagg         float64\n",
       "age               int64\n",
       "strength        float64\n",
       "dtype: object"
      ]
     },
     "execution_count": 16,
     "metadata": {},
     "output_type": "execute_result"
    }
   ],
   "source": [
    "df.dtypes"
   ]
  },
  {
   "cell_type": "code",
   "execution_count": 17,
   "metadata": {},
   "outputs": [
    {
     "data": {
      "text/plain": [
       "(1030, 9)"
      ]
     },
     "execution_count": 17,
     "metadata": {},
     "output_type": "execute_result"
    }
   ],
   "source": [
    "df.shape"
   ]
  },
  {
   "cell_type": "code",
   "execution_count": 18,
   "metadata": {},
   "outputs": [
    {
     "data": {
      "text/plain": [
       "cement          0\n",
       "slag            0\n",
       "ash             0\n",
       "water           0\n",
       "superplastic    0\n",
       "coarseagg       0\n",
       "fineagg         0\n",
       "age             0\n",
       "strength        0\n",
       "dtype: int64"
      ]
     },
     "execution_count": 18,
     "metadata": {},
     "output_type": "execute_result"
    }
   ],
   "source": [
    "# checking for missing values\n",
    "df.isnull().sum()"
   ]
  },
  {
   "cell_type": "code",
   "execution_count": 19,
   "metadata": {},
   "outputs": [
    {
     "data": {
      "text/html": [
       "<div>\n",
       "<style scoped>\n",
       "    .dataframe tbody tr th:only-of-type {\n",
       "        vertical-align: middle;\n",
       "    }\n",
       "\n",
       "    .dataframe tbody tr th {\n",
       "        vertical-align: top;\n",
       "    }\n",
       "\n",
       "    .dataframe thead th {\n",
       "        text-align: right;\n",
       "    }\n",
       "</style>\n",
       "<table border=\"1\" class=\"dataframe\">\n",
       "  <thead>\n",
       "    <tr style=\"text-align: right;\">\n",
       "      <th></th>\n",
       "      <th>count</th>\n",
       "      <th>mean</th>\n",
       "      <th>std</th>\n",
       "      <th>min</th>\n",
       "      <th>25%</th>\n",
       "      <th>50%</th>\n",
       "      <th>75%</th>\n",
       "      <th>max</th>\n",
       "    </tr>\n",
       "  </thead>\n",
       "  <tbody>\n",
       "    <tr>\n",
       "      <th>cement</th>\n",
       "      <td>1030.0</td>\n",
       "      <td>281.17</td>\n",
       "      <td>104.51</td>\n",
       "      <td>102.00</td>\n",
       "      <td>192.38</td>\n",
       "      <td>272.90</td>\n",
       "      <td>350.00</td>\n",
       "      <td>540.0</td>\n",
       "    </tr>\n",
       "    <tr>\n",
       "      <th>slag</th>\n",
       "      <td>1030.0</td>\n",
       "      <td>73.90</td>\n",
       "      <td>86.28</td>\n",
       "      <td>0.00</td>\n",
       "      <td>0.00</td>\n",
       "      <td>22.00</td>\n",
       "      <td>142.95</td>\n",
       "      <td>359.4</td>\n",
       "    </tr>\n",
       "    <tr>\n",
       "      <th>ash</th>\n",
       "      <td>1030.0</td>\n",
       "      <td>54.19</td>\n",
       "      <td>64.00</td>\n",
       "      <td>0.00</td>\n",
       "      <td>0.00</td>\n",
       "      <td>0.00</td>\n",
       "      <td>118.30</td>\n",
       "      <td>200.1</td>\n",
       "    </tr>\n",
       "    <tr>\n",
       "      <th>water</th>\n",
       "      <td>1030.0</td>\n",
       "      <td>181.57</td>\n",
       "      <td>21.35</td>\n",
       "      <td>121.80</td>\n",
       "      <td>164.90</td>\n",
       "      <td>185.00</td>\n",
       "      <td>192.00</td>\n",
       "      <td>247.0</td>\n",
       "    </tr>\n",
       "    <tr>\n",
       "      <th>superplastic</th>\n",
       "      <td>1030.0</td>\n",
       "      <td>6.20</td>\n",
       "      <td>5.97</td>\n",
       "      <td>0.00</td>\n",
       "      <td>0.00</td>\n",
       "      <td>6.40</td>\n",
       "      <td>10.20</td>\n",
       "      <td>32.2</td>\n",
       "    </tr>\n",
       "    <tr>\n",
       "      <th>coarseagg</th>\n",
       "      <td>1030.0</td>\n",
       "      <td>972.92</td>\n",
       "      <td>77.75</td>\n",
       "      <td>801.00</td>\n",
       "      <td>932.00</td>\n",
       "      <td>968.00</td>\n",
       "      <td>1029.40</td>\n",
       "      <td>1145.0</td>\n",
       "    </tr>\n",
       "    <tr>\n",
       "      <th>fineagg</th>\n",
       "      <td>1030.0</td>\n",
       "      <td>773.58</td>\n",
       "      <td>80.18</td>\n",
       "      <td>594.00</td>\n",
       "      <td>730.95</td>\n",
       "      <td>779.50</td>\n",
       "      <td>824.00</td>\n",
       "      <td>992.6</td>\n",
       "    </tr>\n",
       "    <tr>\n",
       "      <th>age</th>\n",
       "      <td>1030.0</td>\n",
       "      <td>45.66</td>\n",
       "      <td>63.17</td>\n",
       "      <td>1.00</td>\n",
       "      <td>7.00</td>\n",
       "      <td>28.00</td>\n",
       "      <td>56.00</td>\n",
       "      <td>365.0</td>\n",
       "    </tr>\n",
       "    <tr>\n",
       "      <th>strength</th>\n",
       "      <td>1030.0</td>\n",
       "      <td>35.82</td>\n",
       "      <td>16.71</td>\n",
       "      <td>2.33</td>\n",
       "      <td>23.71</td>\n",
       "      <td>34.44</td>\n",
       "      <td>46.14</td>\n",
       "      <td>82.6</td>\n",
       "    </tr>\n",
       "  </tbody>\n",
       "</table>\n",
       "</div>"
      ],
      "text/plain": [
       "               count    mean     std     min     25%     50%      75%     max\n",
       "cement        1030.0  281.17  104.51  102.00  192.38  272.90   350.00   540.0\n",
       "slag          1030.0   73.90   86.28    0.00    0.00   22.00   142.95   359.4\n",
       "ash           1030.0   54.19   64.00    0.00    0.00    0.00   118.30   200.1\n",
       "water         1030.0  181.57   21.35  121.80  164.90  185.00   192.00   247.0\n",
       "superplastic  1030.0    6.20    5.97    0.00    0.00    6.40    10.20    32.2\n",
       "coarseagg     1030.0  972.92   77.75  801.00  932.00  968.00  1029.40  1145.0\n",
       "fineagg       1030.0  773.58   80.18  594.00  730.95  779.50   824.00   992.6\n",
       "age           1030.0   45.66   63.17    1.00    7.00   28.00    56.00   365.0\n",
       "strength      1030.0   35.82   16.71    2.33   23.71   34.44    46.14    82.6"
      ]
     },
     "execution_count": 19,
     "metadata": {},
     "output_type": "execute_result"
    }
   ],
   "source": [
    "# main statistics\n",
    "df.describe().T.round(2)"
   ]
  },
  {
   "cell_type": "markdown",
   "metadata": {},
   "source": [
    "It's possible to see that cement, slag and ash are left sweked, let's investigate those features."
   ]
  },
  {
   "cell_type": "markdown",
   "metadata": {},
   "source": [
    "## Cement"
   ]
  },
  {
   "cell_type": "code",
   "execution_count": 20,
   "metadata": {},
   "outputs": [
    {
     "name": "stdout",
     "output_type": "stream",
     "text": [
      "1st Quartile (Q1) is:  192.375\n",
      "3rd Quartile (Q3) is:  350.0\n",
      "Interqualile range (IQR) is:  157.625\n"
     ]
    }
   ],
   "source": [
    "# quartiles\n",
    "iqr(data = df, column = 'cement')"
   ]
  },
  {
   "cell_type": "code",
   "execution_count": 21,
   "metadata": {},
   "outputs": [
    {
     "name": "stdout",
     "output_type": "stream",
     "text": [
      "Lower outliers limit in cement:  -44.0625\n",
      "Upper outliers limit in cement:  586.4375\n"
     ]
    }
   ],
   "source": [
    "# outlier detection\n",
    "outlier_detection(data = df, column = 'cement')"
   ]
  },
  {
   "cell_type": "code",
   "execution_count": 22,
   "metadata": {},
   "outputs": [
    {
     "name": "stdout",
     "output_type": "stream",
     "text": [
      "Number of outliers in cement upper:  0\n",
      "Number of outliers in cement lower:  0\n",
      "% of oulier in cement upper:  0.0 %\n",
      "% of oulier in cement lower:  0.0 %\n"
     ]
    }
   ],
   "source": [
    "num_outliers(data = df, column = 'cement')"
   ]
  },
  {
   "cell_type": "markdown",
   "metadata": {},
   "source": [
    "There are no outliers in the cement distribuition. It can also be checked using the boxplot."
   ]
  },
  {
   "cell_type": "code",
   "execution_count": 23,
   "metadata": {},
   "outputs": [
    {
     "data": {
      "image/png": "[encoded data removed]",
      "text/plain": [
       "<Figure size 432x288 with 1 Axes>"
      ]
     },
     "metadata": {},
     "output_type": "display_data"
    }
   ],
   "source": [
    "# distribuition of cement\n",
    "\n",
    "ax = sns.boxplot(x = 'cement', \n",
    "                 data = df,\n",
    "                 orient = 'h')\n",
    "plt.title('Cement distribuition boxplot', fontsize = 15)\n",
    "plt.xlabel('Cement', fontsize = 13)\n",
    "ax = ax"
   ]
  },
  {
   "cell_type": "markdown",
   "metadata": {},
   "source": [
    "We can see the distribuition for the other columns as well."
   ]
  },
  {
   "cell_type": "code",
   "execution_count": 24,
   "metadata": {},
   "outputs": [
    {
     "data": {
      "image/png": "[encoded data removed]",
      "text/plain": [
       "<Figure size 432x288 with 1 Axes>"
      ]
     },
     "metadata": {},
     "output_type": "display_data"
    }
   ],
   "source": [
    "ax = sns.distplot(df['cement'])\n",
    "plt.title('Cement Distribuition', fontsize = 15)\n",
    "plt.xlabel('Cement', fontsize = 13)\n",
    "plt.ylabel('Density', fontsize = 13)\n",
    "ax = ax"
   ]
  },
  {
   "cell_type": "markdown",
   "metadata": {},
   "source": [
    "## Water"
   ]
  },
  {
   "cell_type": "code",
   "execution_count": 25,
   "metadata": {},
   "outputs": [
    {
     "name": "stdout",
     "output_type": "stream",
     "text": [
      "1st Quartile (Q1) is:  164.9\n",
      "3rd Quartile (Q3) is:  192.0\n",
      "Interqualile range (IQR) is:  27.099999999999994\n"
     ]
    }
   ],
   "source": [
    "# quartiles\n",
    "iqr(data = df, column = 'water')"
   ]
  },
  {
   "cell_type": "code",
   "execution_count": 26,
   "metadata": {},
   "outputs": [
    {
     "name": "stdout",
     "output_type": "stream",
     "text": [
      "Lower outliers limit in water:  124.25000000000001\n",
      "Upper outliers limit in water:  232.64999999999998\n"
     ]
    }
   ],
   "source": [
    "# outlier detection\n",
    "outlier_detection(data = df, column = 'water')"
   ]
  },
  {
   "cell_type": "code",
   "execution_count": 27,
   "metadata": {},
   "outputs": [
    {
     "name": "stdout",
     "output_type": "stream",
     "text": [
      "Number of outliers in water upper:  4\n",
      "Number of outliers in water lower:  5\n",
      "% of oulier in water upper:  0.39 %\n",
      "% of oulier in water lower:  0.49 %\n"
     ]
    }
   ],
   "source": [
    "num_outliers(data = df, column = 'water')"
   ]
  },
  {
   "cell_type": "code",
   "execution_count": 28,
   "metadata": {},
   "outputs": [
    {
     "data": {
      "image/png": "[encoded data removed]",
      "text/plain": [
       "<Figure size 432x288 with 1 Axes>"
      ]
     },
     "metadata": {},
     "output_type": "display_data"
    }
   ],
   "source": [
    "# distribuition of cement\n",
    "\n",
    "ax = sns.boxplot(x = 'water', \n",
    "                 data = df,\n",
    "                 orient = 'h')\n",
    "plt.title('Water distribuition boxplot', fontsize = 15)\n",
    "plt.xlabel('Water', fontsize = 13)\n",
    "ax = ax"
   ]
  },
  {
   "cell_type": "markdown",
   "metadata": {},
   "source": [
    "As we can see, there are outliers in the water column."
   ]
  },
  {
   "cell_type": "code",
   "execution_count": 29,
   "metadata": {},
   "outputs": [
    {
     "data": {
      "image/png": "[encoded data removed]",
      "text/plain": [
       "<Figure size 432x288 with 1 Axes>"
      ]
     },
     "metadata": {},
     "output_type": "display_data"
    }
   ],
   "source": [
    "ax = sns.distplot(df['cement'])\n",
    "plt.title('Water Distribuition', fontsize = 15)\n",
    "plt.xlabel('Water', fontsize = 13)\n",
    "plt.ylabel('Density', fontsize = 13)\n",
    "ax = ax"
   ]
  },
  {
   "cell_type": "markdown",
   "metadata": {},
   "source": [
    "## Slag"
   ]
  },
  {
   "cell_type": "code",
   "execution_count": 30,
   "metadata": {},
   "outputs": [
    {
     "name": "stdout",
     "output_type": "stream",
     "text": [
      "1st Quartile (Q1) is:  0.0\n",
      "3rd Quartile (Q3) is:  142.95\n",
      "Interqualile range (IQR) is:  142.95\n"
     ]
    }
   ],
   "source": [
    "# quartiles\n",
    "iqr(data = df, column = 'slag')"
   ]
  },
  {
   "cell_type": "code",
   "execution_count": 31,
   "metadata": {},
   "outputs": [
    {
     "name": "stdout",
     "output_type": "stream",
     "text": [
      "Lower outliers limit in slag:  -214.42499999999998\n",
      "Upper outliers limit in slag:  357.375\n"
     ]
    }
   ],
   "source": [
    "# outlier detection\n",
    "outlier_detection(data = df, column = 'slag')"
   ]
  },
  {
   "cell_type": "code",
   "execution_count": 32,
   "metadata": {},
   "outputs": [
    {
     "name": "stdout",
     "output_type": "stream",
     "text": [
      "Number of outliers in slag upper:  2\n",
      "Number of outliers in slag lower:  0\n",
      "% of oulier in slag upper:  0.19 %\n",
      "% of oulier in slag lower:  0.0 %\n"
     ]
    }
   ],
   "source": [
    "num_outliers(data = df, column = 'slag')"
   ]
  },
  {
   "cell_type": "code",
   "execution_count": 33,
   "metadata": {},
   "outputs": [
    {
     "data": {
      "image/png": "[encoded data removed]",
      "text/plain": [
       "<Figure size 432x288 with 1 Axes>"
      ]
     },
     "metadata": {},
     "output_type": "display_data"
    }
   ],
   "source": [
    "# distribuition of cement\n",
    "\n",
    "ax = sns.boxplot(x = 'slag', \n",
    "                 data = df,\n",
    "                 orient = 'h')\n",
    "plt.title('Slag distribuition boxplot', fontsize = 15)\n",
    "plt.xlabel('Slag', fontsize = 13)\n",
    "ax = ax"
   ]
  },
  {
   "cell_type": "markdown",
   "metadata": {},
   "source": [
    "As we can see, there are outliers in the slag column."
   ]
  },
  {
   "cell_type": "code",
   "execution_count": 34,
   "metadata": {},
   "outputs": [
    {
     "data": {
      "image/png": "[encoded data removed]",
      "text/plain": [
       "<Figure size 432x288 with 1 Axes>"
      ]
     },
     "metadata": {},
     "output_type": "display_data"
    }
   ],
   "source": [
    "ax = sns.distplot(df['slag'])\n",
    "plt.title('Slag Distribuition', fontsize = 15)\n",
    "plt.xlabel('Slag', fontsize = 13)\n",
    "plt.ylabel('Density', fontsize = 13)\n",
    "ax = ax"
   ]
  },
  {
   "cell_type": "markdown",
   "metadata": {},
   "source": [
    "## Age"
   ]
  },
  {
   "cell_type": "code",
   "execution_count": 35,
   "metadata": {},
   "outputs": [
    {
     "name": "stdout",
     "output_type": "stream",
     "text": [
      "1st Quartile (Q1) is:  7.0\n",
      "3rd Quartile (Q3) is:  56.0\n",
      "Interqualile range (IQR) is:  49.0\n"
     ]
    }
   ],
   "source": [
    "# quartiles\n",
    "iqr(data = df, column = 'age')"
   ]
  },
  {
   "cell_type": "code",
   "execution_count": 36,
   "metadata": {},
   "outputs": [
    {
     "name": "stdout",
     "output_type": "stream",
     "text": [
      "Lower outliers limit in age:  -66.5\n",
      "Upper outliers limit in age:  129.5\n"
     ]
    }
   ],
   "source": [
    "# outlier detection\n",
    "outlier_detection(data = df, column = 'age')"
   ]
  },
  {
   "cell_type": "code",
   "execution_count": 37,
   "metadata": {},
   "outputs": [
    {
     "name": "stdout",
     "output_type": "stream",
     "text": [
      "Number of outliers in age upper:  59\n",
      "Number of outliers in age lower:  0\n",
      "% of oulier in age upper:  5.73 %\n",
      "% of oulier in age lower:  0.0 %\n"
     ]
    }
   ],
   "source": [
    "num_outliers(data = df, column = 'age')"
   ]
  },
  {
   "cell_type": "markdown",
   "metadata": {},
   "source": [
    "As we can see, there are may outliers above the upper limit."
   ]
  },
  {
   "cell_type": "code",
   "execution_count": 38,
   "metadata": {},
   "outputs": [
    {
     "data": {
      "image/png": "[encoded data removed]",
      "text/plain": [
       "<Figure size 432x288 with 1 Axes>"
      ]
     },
     "metadata": {},
     "output_type": "display_data"
    }
   ],
   "source": [
    "# distribuition of cement\n",
    "\n",
    "ax = sns.boxplot(x = 'age', \n",
    "                 data = df,\n",
    "                 orient = 'h')\n",
    "plt.title('Age distribuition boxplot', fontsize = 15)\n",
    "plt.xlabel('Age', fontsize = 13)\n",
    "ax = ax"
   ]
  },
  {
   "cell_type": "code",
   "execution_count": 39,
   "metadata": {},
   "outputs": [
    {
     "data": {
      "image/png": "[encoded data removed]",
      "text/plain": [
       "<Figure size 432x288 with 1 Axes>"
      ]
     },
     "metadata": {},
     "output_type": "display_data"
    }
   ],
   "source": [
    "ax = sns.distplot(df['age'])\n",
    "plt.title('Age Distribuition', fontsize = 15)\n",
    "plt.xlabel('Age', fontsize = 13)\n",
    "plt.ylabel('Density', fontsize = 13)\n",
    "ax = ax"
   ]
  },
  {
   "cell_type": "markdown",
   "metadata": {},
   "source": [
    "## Ash"
   ]
  },
  {
   "cell_type": "code",
   "execution_count": 40,
   "metadata": {},
   "outputs": [
    {
     "name": "stdout",
     "output_type": "stream",
     "text": [
      "1st Quartile (Q1) is:  0.0\n",
      "3rd Quartile (Q3) is:  118.3\n",
      "Interqualile range (IQR) is:  118.3\n"
     ]
    }
   ],
   "source": [
    "# quartiles\n",
    "iqr(data = df, column = 'ash')"
   ]
  },
  {
   "cell_type": "code",
   "execution_count": 41,
   "metadata": {},
   "outputs": [
    {
     "name": "stdout",
     "output_type": "stream",
     "text": [
      "Lower outliers limit in ash:  -177.45\n",
      "Upper outliers limit in ash:  295.75\n"
     ]
    }
   ],
   "source": [
    "# outlier detection\n",
    "outlier_detection(data = df, column = 'ash')"
   ]
  },
  {
   "cell_type": "code",
   "execution_count": 42,
   "metadata": {},
   "outputs": [
    {
     "name": "stdout",
     "output_type": "stream",
     "text": [
      "Number of outliers in ash upper:  0\n",
      "Number of outliers in ash lower:  0\n",
      "% of oulier in ash upper:  0.0 %\n",
      "% of oulier in ash lower:  0.0 %\n"
     ]
    }
   ],
   "source": [
    "num_outliers(data = df, column = 'ash')"
   ]
  },
  {
   "cell_type": "markdown",
   "metadata": {},
   "source": [
    "There are no outliers in the ash column."
   ]
  },
  {
   "cell_type": "code",
   "execution_count": 43,
   "metadata": {},
   "outputs": [
    {
     "data": {
      "image/png": "[encoded data removed]",
      "text/plain": [
       "<Figure size 432x288 with 1 Axes>"
      ]
     },
     "metadata": {},
     "output_type": "display_data"
    }
   ],
   "source": [
    "# distribuition of cement\n",
    "\n",
    "ax = sns.boxplot(x = 'ash', \n",
    "                 data = df,\n",
    "                 orient = 'h')\n",
    "plt.title('Ash distribuition boxplot', fontsize = 15)\n",
    "plt.xlabel('Ash', fontsize = 13)\n",
    "ax = ax"
   ]
  },
  {
   "cell_type": "code",
   "execution_count": 44,
   "metadata": {},
   "outputs": [
    {
     "data": {
      "image/png": "[encoded data removed]",
      "text/plain": [
       "<Figure size 432x288 with 1 Axes>"
      ]
     },
     "metadata": {},
     "output_type": "display_data"
    }
   ],
   "source": [
    "ax = sns.distplot(df['ash'])\n",
    "plt.title('Ash Distribuition', fontsize = 15)\n",
    "plt.xlabel('Ash', fontsize = 13)\n",
    "plt.ylabel('Density', fontsize = 13)\n",
    "ax = ax"
   ]
  },
  {
   "cell_type": "markdown",
   "metadata": {},
   "source": [
    "## fineagg"
   ]
  },
  {
   "cell_type": "code",
   "execution_count": 45,
   "metadata": {},
   "outputs": [
    {
     "name": "stdout",
     "output_type": "stream",
     "text": [
      "1st Quartile (Q1) is:  730.95\n",
      "3rd Quartile (Q3) is:  824.0\n",
      "Interqualile range (IQR) is:  93.04999999999995\n"
     ]
    }
   ],
   "source": [
    "# quartiles\n",
    "iqr(data = df, column = 'fineagg')"
   ]
  },
  {
   "cell_type": "code",
   "execution_count": 46,
   "metadata": {},
   "outputs": [
    {
     "name": "stdout",
     "output_type": "stream",
     "text": [
      "Lower outliers limit in fineagg:  591.3750000000001\n",
      "Upper outliers limit in fineagg:  963.5749999999999\n"
     ]
    }
   ],
   "source": [
    "# outlier detection\n",
    "outlier_detection(data = df, column = 'fineagg')"
   ]
  },
  {
   "cell_type": "code",
   "execution_count": 47,
   "metadata": {},
   "outputs": [
    {
     "name": "stdout",
     "output_type": "stream",
     "text": [
      "Number of outliers in fineagg upper:  5\n",
      "Number of outliers in fineagg lower:  0\n",
      "% of oulier in fineagg upper:  0.49 %\n",
      "% of oulier in fineagg lower:  0.0 %\n"
     ]
    }
   ],
   "source": [
    "num_outliers(data = df, column = 'fineagg')"
   ]
  },
  {
   "cell_type": "markdown",
   "metadata": {},
   "source": [
    "As we can see, there are outliers in the fineagg column."
   ]
  },
  {
   "cell_type": "code",
   "execution_count": 48,
   "metadata": {},
   "outputs": [
    {
     "data": {
      "image/png": "[encoded data removed]",
      "text/plain": [
       "<Figure size 432x288 with 1 Axes>"
      ]
     },
     "metadata": {},
     "output_type": "display_data"
    }
   ],
   "source": [
    "# distribuition of cement\n",
    "\n",
    "ax = sns.boxplot(x = 'fineagg', \n",
    "                 data = df,\n",
    "                 orient = 'h')\n",
    "plt.title('Fineagg distribuition boxplot', fontsize = 15)\n",
    "plt.xlabel('Fineagg', fontsize = 13)\n",
    "ax = ax"
   ]
  },
  {
   "cell_type": "code",
   "execution_count": 49,
   "metadata": {},
   "outputs": [
    {
     "data": {
      "image/png": "[encoded data removed]",
      "text/plain": [
       "<Figure size 432x288 with 1 Axes>"
      ]
     },
     "metadata": {},
     "output_type": "display_data"
    }
   ],
   "source": [
    "ax = sns.distplot(df['fineagg'])\n",
    "plt.title('Fineagg Distribuition', fontsize = 15)\n",
    "plt.xlabel('Fineagg', fontsize = 13)\n",
    "plt.ylabel('Density', fontsize = 13)\n",
    "ax = ax"
   ]
  },
  {
   "cell_type": "markdown",
   "metadata": {},
   "source": [
    "## Superplastic"
   ]
  },
  {
   "cell_type": "code",
   "execution_count": 50,
   "metadata": {},
   "outputs": [
    {
     "name": "stdout",
     "output_type": "stream",
     "text": [
      "1st Quartile (Q1) is:  0.0\n",
      "3rd Quartile (Q3) is:  10.2\n",
      "Interqualile range (IQR) is:  10.2\n"
     ]
    }
   ],
   "source": [
    "# quartiles\n",
    "iqr(data = df, column = 'superplastic')"
   ]
  },
  {
   "cell_type": "code",
   "execution_count": 51,
   "metadata": {},
   "outputs": [
    {
     "name": "stdout",
     "output_type": "stream",
     "text": [
      "Lower outliers limit in superplastic:  -15.299999999999999\n",
      "Upper outliers limit in superplastic:  25.5\n"
     ]
    }
   ],
   "source": [
    "# outlier detection\n",
    "outlier_detection(data = df, column = 'superplastic')"
   ]
  },
  {
   "cell_type": "code",
   "execution_count": 52,
   "metadata": {},
   "outputs": [
    {
     "name": "stdout",
     "output_type": "stream",
     "text": [
      "Number of outliers in superplastic upper:  10\n",
      "Number of outliers in superplastic lower:  0\n",
      "% of oulier in superplastic upper:  0.97 %\n",
      "% of oulier in superplastic lower:  0.0 %\n"
     ]
    }
   ],
   "source": [
    "num_outliers(data = df, column = 'superplastic')"
   ]
  },
  {
   "cell_type": "markdown",
   "metadata": {},
   "source": [
    "As we ca see, there are outliers in the superplastic column."
   ]
  },
  {
   "cell_type": "code",
   "execution_count": 56,
   "metadata": {},
   "outputs": [
    {
     "data": {
      "image/png": "[encoded data removed]",
      "text/plain": [
       "<Figure size 432x288 with 1 Axes>"
      ]
     },
     "metadata": {},
     "output_type": "display_data"
    }
   ],
   "source": [
    "# distribuition of cement\n",
    "\n",
    "ax = sns.boxplot(x = 'superplastic', \n",
    "                 data = df,\n",
    "                 orient = 'h')\n",
    "plt.title('Superplastic distribuition boxplot', fontsize = 15)\n",
    "plt.xlabel('Superplastic', fontsize = 13)\n",
    "ax = ax"
   ]
  },
  {
   "cell_type": "code",
   "execution_count": 57,
   "metadata": {},
   "outputs": [
    {
     "data": {
      "image/png": "[encoded data removed]",
      "text/plain": [
       "<Figure size 432x288 with 1 Axes>"
      ]
     },
     "metadata": {},
     "output_type": "display_data"
    }
   ],
   "source": [
    "ax = sns.distplot(df['superplastic'])\n",
    "plt.title('Superplastic Distribuition', fontsize = 15)\n",
    "plt.xlabel('Superplastic', fontsize = 13)\n",
    "plt.ylabel('Density', fontsize = 13)\n",
    "ax = ax"
   ]
  },
  {
   "cell_type": "markdown",
   "metadata": {},
   "source": [
    "## Coarseagg"
   ]
  },
  {
   "cell_type": "code",
   "execution_count": 53,
   "metadata": {},
   "outputs": [
    {
     "name": "stdout",
     "output_type": "stream",
     "text": [
      "1st Quartile (Q1) is:  932.0\n",
      "3rd Quartile (Q3) is:  1029.4\n",
      "Interqualile range (IQR) is:  97.40000000000009\n"
     ]
    }
   ],
   "source": [
    "# quartiles\n",
    "iqr(data = df, column = 'coarseagg')"
   ]
  },
  {
   "cell_type": "code",
   "execution_count": 54,
   "metadata": {},
   "outputs": [
    {
     "name": "stdout",
     "output_type": "stream",
     "text": [
      "Lower outliers limit in coarseagg:  785.8999999999999\n",
      "Upper outliers limit in coarseagg:  1175.5000000000002\n"
     ]
    }
   ],
   "source": [
    "# outlier detection\n",
    "outlier_detection(data = df, column = 'coarseagg')"
   ]
  },
  {
   "cell_type": "code",
   "execution_count": 55,
   "metadata": {},
   "outputs": [
    {
     "name": "stdout",
     "output_type": "stream",
     "text": [
      "Number of outliers in coarseagg upper:  0\n",
      "Number of outliers in coarseagg lower:  0\n",
      "% of oulier in coarseagg upper:  0.0 %\n",
      "% of oulier in coarseagg lower:  0.0 %\n"
     ]
    }
   ],
   "source": [
    "num_outliers(data = df, column = 'coarseagg')"
   ]
  },
  {
   "cell_type": "markdown",
   "metadata": {},
   "source": [
    "As we can see, there are no outliers in coarseagg column."
   ]
  },
  {
   "cell_type": "code",
   "execution_count": 58,
   "metadata": {},
   "outputs": [
    {
     "data": {
      "image/png": "[encoded data removed]",
      "text/plain": [
       "<Figure size 432x288 with 1 Axes>"
      ]
     },
     "metadata": {},
     "output_type": "display_data"
    }
   ],
   "source": [
    "# distribuition of cement\n",
    "\n",
    "ax = sns.boxplot(x = 'coarseagg', \n",
    "                 data = df,\n",
    "                 orient = 'h')\n",
    "plt.title('Coarseagg distribuition boxplot', fontsize = 15)\n",
    "plt.xlabel('Coarseagg', fontsize = 13)\n",
    "ax = ax"
   ]
  },
  {
   "cell_type": "code",
   "execution_count": 59,
   "metadata": {},
   "outputs": [
    {
     "data": {
      "image/png": "[encoded data removed]",
      "text/plain": [
       "<Figure size 432x288 with 1 Axes>"
      ]
     },
     "metadata": {},
     "output_type": "display_data"
    }
   ],
   "source": [
    "ax = sns.distplot(df['coarseagg'])\n",
    "plt.title('Coarseagg Distribuition', fontsize = 15)\n",
    "plt.xlabel('Coarseagg', fontsize = 13)\n",
    "plt.ylabel('Density', fontsize = 13)\n",
    "ax = ax"
   ]
  },
  {
   "cell_type": "markdown",
   "metadata": {},
   "source": [
    "# Multivariate Analysis"
   ]
  },
  {
   "cell_type": "code",
   "execution_count": 65,
   "metadata": {},
   "outputs": [
    {
     "data": {
      "text/plain": [
       "Text(0.5, 1.0, 'Strength distribuition')"
      ]
     },
     "execution_count": 65,
     "metadata": {},
     "output_type": "execute_result"
    },
    {
     "data": {
      "image/png": "[encoded data removed]",
      "text/plain": [
       "<Figure size 864x720 with 9 Axes>"
      ]
     },
     "metadata": {},
     "output_type": "display_data"
    }
   ],
   "source": [
    "# distplot\n",
    "fig, ax2 = plt.subplots(3, 3, figsize = (12, 10))\n",
    "plt.subplots_adjust(left = 0.1,\n",
    "                    bottom = 0.1, \n",
    "                    right = 0.9, \n",
    "                    top = 0.9, \n",
    "                    wspace = 0.4, \n",
    "                    hspace = 0.4)\n",
    "fig.suptitle('Variables distribuitions', fontsize = 25)\n",
    "\n",
    "sns.distplot(df['cement'], ax = ax2[0][0]).set_title('Cement distribuition') # cement\n",
    "sns.distplot(df['slag'], ax = ax2[0][1]).set_title('Slag distribuition') # slag\n",
    "sns.distplot(df['ash'], ax = ax2[0][2]).set_title('Ash distribuition') # ash\n",
    "sns.distplot(df['water'], ax = ax2[1][0]).set_title('Water distribuition') # water\n",
    "sns.distplot(df['superplastic'], ax = ax2[1][1]).set_title('Superplastic distribuition') # superplastic\n",
    "sns.distplot(df['coarseagg'], ax = ax2[1][2]).set_title('Coarseagg distribuition') # coarseagg\n",
    "sns.distplot(df['fineagg'], ax = ax2[2][0]).set_title('Fineagg distribuition') # fineagg\n",
    "sns.distplot(df['age'], ax = ax2[2][1]).set_title('Age distribuition') # age\n",
    "sns.distplot(df['strength'], ax = ax2[2][2]).set_title('Strength distribuition') # strength"
   ]
  },
  {
   "cell_type": "code",
   "execution_count": null,
   "metadata": {},
   "outputs": [],
   "source": []
  }
 ],
 "metadata": {
  "kernelspec": {
   "display_name": "Python 3.10.4 64-bit",
   "language": "python",
   "name": "python3"
  },
  "language_info": {
   "codemirror_mode": {
    "name": "ipython",
    "version": 3
   },
   "file_extension": ".py",
   "mimetype": "text/x-python",
   "name": "python",
   "nbconvert_exporter": "python",
   "pygments_lexer": "ipython3",
   "version": "3.10.4"
  },
  "orig_nbformat": 4,
  "vscode": {
   "interpreter": {
    "hash": "c3503f95e0e8f4afdf6702396a7a2a29cae9f67572acfe092405dcaa2579b817"
   }
  }
 },
 "nbformat": 4,
 "nbformat_minor": 2
}
